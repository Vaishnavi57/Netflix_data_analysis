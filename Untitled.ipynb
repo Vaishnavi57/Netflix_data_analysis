{
 "cells": [
  {
   "cell_type": "code",
   "execution_count": 49,
   "id": "0bab37b8-633a-4359-8357-955eb26da0b0",
   "metadata": {
    "scrolled": true
   },
   "outputs": [],
   "source": [
    "import pandas as pd\n",
    "df=pd.read_csv('netflix_titles.csv',encoding='utf-8')\n"
   ]
  },
  {
   "cell_type": "code",
   "execution_count": 50,
   "id": "9155761a-63eb-4e12-9125-2e633dec304e",
   "metadata": {},
   "outputs": [],
   "source": [
    "import sqlalchemy as sal\n",
    "engine=sal.create_engine('mssql://OASIS\\SQLEXPRESS/master?driver=ODBC+DRIVER+17+FOR+SQL+SERVER')\n",
    "conn=engine.connect()\n"
   ]
  },
  {
   "cell_type": "code",
   "execution_count": 51,
   "id": "b17677c7-1a97-4637-9591-8eb8186b7d69",
   "metadata": {},
   "outputs": [],
   "source": [
    "df.to_sql('netflix_raw',con=conn,index=False,if_exists='append')\n",
    "conn.close()"
   ]
  }
 ],
 "metadata": {
  "kernelspec": {
   "display_name": "Python 3 (ipykernel)",
   "language": "python",
   "name": "python3"
  },
  "language_info": {
   "codemirror_mode": {
    "name": "ipython",
    "version": 3
   },
   "file_extension": ".py",
   "mimetype": "text/x-python",
   "name": "python",
   "nbconvert_exporter": "python",
   "pygments_lexer": "ipython3",
   "version": "3.11.0"
  }
 },
 "nbformat": 4,
 "nbformat_minor": 5
}
